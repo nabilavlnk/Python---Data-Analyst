{
 "cells": [
  {
   "cell_type": "code",
   "execution_count": 56,
   "metadata": {
    "colab": {
     "base_uri": "https://localhost:8080/"
    },
    "id": "3x8EdbVsHQBz",
    "outputId": "72ab1b4a-2b1b-4514-d480-70338ceb5377"
   },
   "outputs": [
    {
     "name": "stdout",
     "output_type": "stream",
     "text": [
      "Requirement already satisfied: instaloader in c:\\users\\asus\\appdata\\local\\programs\\python\\python310\\lib\\site-packages (4.9)"
     ]
    },
    {
     "name": "stderr",
     "output_type": "stream",
     "text": [
      "WARNING: You are using pip version 22.0.4; however, version 22.1.2 is available.\n",
      "You should consider upgrading via the 'C:\\Users\\Asus\\AppData\\Local\\Programs\\Python\\Python310\\python.exe -m pip install --upgrade pip' command.\n"
     ]
    },
    {
     "name": "stdout",
     "output_type": "stream",
     "text": [
      "\n",
      "Requirement already satisfied: requests>=2.4 in c:\\users\\asus\\appdata\\local\\programs\\python\\python310\\lib\\site-packages (from instaloader) (2.27.1)\n",
      "Requirement already satisfied: urllib3<1.27,>=1.21.1 in c:\\users\\asus\\appdata\\local\\programs\\python\\python310\\lib\\site-packages (from requests>=2.4->instaloader) (1.26.8)\n",
      "Requirement already satisfied: charset-normalizer~=2.0.0 in c:\\users\\asus\\appdata\\local\\programs\\python\\python310\\lib\\site-packages (from requests>=2.4->instaloader) (2.0.12)\n",
      "Requirement already satisfied: certifi>=2017.4.17 in c:\\users\\asus\\appdata\\local\\programs\\python\\python310\\lib\\site-packages (from requests>=2.4->instaloader) (2021.10.8)\n",
      "Requirement already satisfied: idna<4,>=2.5 in c:\\users\\asus\\appdata\\local\\programs\\python\\python310\\lib\\site-packages (from requests>=2.4->instaloader) (3.3)\n"
     ]
    }
   ],
   "source": [
    "!pip install instaloader"
   ]
  },
  {
   "cell_type": "code",
   "execution_count": 57,
   "metadata": {
    "colab": {
     "base_uri": "https://localhost:8080/"
    },
    "id": "U5I6gUg_HbC3",
    "outputId": "ed8fc449-e51c-483b-8934-c2f0ba922839"
   },
   "outputs": [
    {
     "name": "stdout",
     "output_type": "stream",
     "text": [
      "Requirement already satisfied: instaloader in c:\\users\\asus\\appdata\\local\\programs\\python\\python310\\lib\\site-packages (4.9)"
     ]
    },
    {
     "name": "stderr",
     "output_type": "stream",
     "text": [
      "WARNING: You are using pip version 22.0.4; however, version 22.1.2 is available.\n",
      "You should consider upgrading via the 'C:\\Users\\Asus\\AppData\\Local\\Programs\\Python\\Python310\\python.exe -m pip install --upgrade pip' command.\n"
     ]
    },
    {
     "name": "stdout",
     "output_type": "stream",
     "text": [
      "\n",
      "Requirement already satisfied: requests>=2.4 in c:\\users\\asus\\appdata\\local\\programs\\python\\python310\\lib\\site-packages (from instaloader) (2.27.1)\n",
      "Requirement already satisfied: urllib3<1.27,>=1.21.1 in c:\\users\\asus\\appdata\\local\\programs\\python\\python310\\lib\\site-packages (from requests>=2.4->instaloader) (1.26.8)\n",
      "Requirement already satisfied: idna<4,>=2.5 in c:\\users\\asus\\appdata\\local\\programs\\python\\python310\\lib\\site-packages (from requests>=2.4->instaloader) (3.3)\n",
      "Requirement already satisfied: charset-normalizer~=2.0.0 in c:\\users\\asus\\appdata\\local\\programs\\python\\python310\\lib\\site-packages (from requests>=2.4->instaloader) (2.0.12)\n",
      "Requirement already satisfied: certifi>=2017.4.17 in c:\\users\\asus\\appdata\\local\\programs\\python\\python310\\lib\\site-packages (from requests>=2.4->instaloader) (2021.10.8)\n"
     ]
    }
   ],
   "source": [
    "!pip install --upgrade instaloader"
   ]
  },
  {
   "cell_type": "code",
   "execution_count": 58,
   "metadata": {
    "id": "f3PhLHKSKp65"
   },
   "outputs": [],
   "source": [
    "from instaloader import Instaloader, Profile\n",
    "L = Instaloader()"
   ]
  },
  {
   "cell_type": "code",
   "execution_count": 84,
   "metadata": {
    "colab": {
     "base_uri": "https://localhost:8080/",
     "height": 1000
    },
    "id": "ylSL2Kl2FjaE",
    "outputId": "b31fe45f-6dc8-4a8f-eb05-3a2150ab1f70"
   },
   "outputs": [
    {
     "name": "stdout",
     "output_type": "stream",
     "text": [
      "[datetime.datetime(2022, 6, 3, 6, 31, 37), 'lingkaran.co', 234, 9, 'Video', 'https://www.instagram.com/p/CeVUMarDyBE/']\n",
      "[datetime.datetime(2022, 6, 2, 9, 13, 12), 'lingkaran.co', 205, 0, 'Carousel', 'https://www.instagram.com/p/CeTCU9xPuDz/']\n",
      "[datetime.datetime(2022, 6, 1, 11, 23, 59), 'lingkaran.co', 91, 12, 'Carousel', 'https://www.instagram.com/p/CeQsf6ZPgin/']\n",
      "[datetime.datetime(2022, 6, 1, 6, 39, 37), 'lingkaran.co', 401, 7, 'Carousel', 'https://www.instagram.com/p/CeQL9Iyvw7a/']\n",
      "[datetime.datetime(2022, 5, 31, 13, 42, 34), 'lingkaran.co', 135, 0, 'Video', 'https://www.instagram.com/p/CeOXPv0D_El/']\n",
      "[datetime.datetime(2022, 5, 31, 6, 17, 9), 'lingkaran.co', 873, 23, 'Carousel', 'https://www.instagram.com/p/CeNklysPLLO/']\n",
      "[datetime.datetime(2022, 5, 30, 6, 18, 8), 'lingkaran.co', 211, 2, 'Carousel', 'https://www.instagram.com/p/CeK_6DvPG0V/']\n",
      "[datetime.datetime(2022, 5, 29, 5, 46, 31), 'lingkaran.co', 495, 5, 'Single', 'https://www.instagram.com/p/CeIXfqiv5Uf/']\n",
      "[datetime.datetime(2022, 5, 28, 8, 36, 31), 'lingkaran.co', 681, 19, 'Video', 'https://www.instagram.com/p/CeGFODCjBVj/']\n",
      "[datetime.datetime(2022, 5, 27, 10, 47, 39), 'lingkaran.co', 338, 8, 'Carousel', 'https://www.instagram.com/p/CeDwXhmPCv5/']\n"
     ]
    }
   ],
   "source": [
    "import instaloader\n",
    "from datetime import datetime\n",
    "from itertools import dropwhile, takewhile\n",
    "import csv\n",
    "\n",
    "class GetInstagramProfile():\n",
    "\n",
    "    def __init__(self, USER, PASSWORD) -> None:\n",
    "        self.L = instaloader.Instaloader()\n",
    "        # login setup and process\n",
    "        self.USER = USER\n",
    "        self.PASSWORD = PASSWORD\n",
    "        L.login(USER, PASSWORD)\n",
    "\n",
    "    def get_post_info_csv(self,username):\n",
    "        data = []\n",
    "        #self.L.login(input(\"username\"), input(\"password\") )\n",
    "        posts = instaloader.Profile.from_username(self.L.context, username).get_posts()\n",
    "        SINCE = datetime(2022, 5, 27)\n",
    "        UNTIL = datetime(2022, 6, 3)\n",
    "        for post in takewhile(lambda p: p.date > SINCE, dropwhile(lambda p: p.date <= UNTIL, posts)):\n",
    "            post_type = \"\"\n",
    "            owner = post.owner_username\n",
    "            like = post.likes\n",
    "            com = post.comments\n",
    "            date = post.date\n",
    "            url = \"https://www.instagram.com/p/\" + post.shortcode + \"/\"\n",
    "                    \n",
    "            if (post.typename == 'GraphImage') :\n",
    "                post_type = \"Single\"\n",
    "            elif (post.typename == 'GraphVideo') :\n",
    "                post_type = \"Video\"\n",
    "            elif (post.typename == 'GraphSidecar') :\n",
    "                post_type = \"Carousel\"\n",
    "            else :\n",
    "                post_type = post.typename\n",
    "                    \n",
    "                    # add data into list\n",
    "            temp = [date, owner, like, com, post_type, url]\n",
    "            #col = ['date', 'user_id', 'total_likes', 'total_comments', 'post_type', 'url']\n",
    "                    \n",
    "            data.append(temp)\n",
    "            print(temp)\n",
    "            #df2 = pd.DataFrame(result, columns = col)\n",
    "\n",
    "cls = GetInstagramProfile('beelsite', 'nabila07')\n",
    "result = cls.get_post_info_csv(\"lingkaran.co\")"
   ]
  },
  {
   "cell_type": "code",
   "execution_count": 60,
   "metadata": {
    "id": "P1E6qcDTa6wI"
   },
   "outputs": [],
   "source": [
    "df.to_csv('HasilScrapingIG.csv', index = False)"
   ]
  },
  {
   "cell_type": "code",
   "execution_count": null,
   "metadata": {},
   "outputs": [],
   "source": []
  }
 ],
 "metadata": {
  "colab": {
   "name": "ScrapingInstagram.ipynb",
   "provenance": []
  },
  "kernelspec": {
   "display_name": "Python 3 (ipykernel)",
   "language": "python",
   "name": "python3"
  },
  "language_info": {
   "codemirror_mode": {
    "name": "ipython",
    "version": 3
   },
   "file_extension": ".py",
   "mimetype": "text/x-python",
   "name": "python",
   "nbconvert_exporter": "python",
   "pygments_lexer": "ipython3",
   "version": "3.10.2"
  }
 },
 "nbformat": 4,
 "nbformat_minor": 1
}
